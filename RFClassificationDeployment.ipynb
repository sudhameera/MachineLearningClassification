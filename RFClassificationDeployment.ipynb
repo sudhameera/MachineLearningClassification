{
 "cells": [
  {
   "cell_type": "code",
   "execution_count": 2,
   "id": "7092d1f0",
   "metadata": {},
   "outputs": [],
   "source": [
    "import pickle"
   ]
  },
  {
   "cell_type": "code",
   "execution_count": null,
   "id": "5be12238",
   "metadata": {},
   "outputs": [],
   "source": []
  },
  {
   "cell_type": "code",
   "execution_count": 3,
   "id": "7e572f7c",
   "metadata": {},
   "outputs": [],
   "source": [
    "FinalModel=pickle.load(open(\"finalmodelClassification.sav\",\"rb\"))"
   ]
  },
  {
   "cell_type": "code",
   "execution_count": 4,
   "id": "9d98045d",
   "metadata": {},
   "outputs": [
    {
     "name": "stdout",
     "output_type": "stream",
     "text": [
      "Enter User ID: 12568429\n",
      "Enter Age: 30\n",
      "Salary: 94000\n",
      "Enter Gender Male 0 or 1 : 1\n"
     ]
    }
   ],
   "source": [
    "userID=int(input(\"Enter User ID: \"))\n",
    "Age= int(input(\"Enter Age: \"))\n",
    "Estimated_Salary=int(input(\"Salary: \"))\n",
    "Gender=int(input(\"Enter Gender Male 0 or 1 : \"))\n"
   ]
  },
  {
   "cell_type": "code",
   "execution_count": 5,
   "id": "cdd25dc3",
   "metadata": {},
   "outputs": [
    {
     "name": "stderr",
     "output_type": "stream",
     "text": [
      "C:\\Users\\venka\\anaconda3\\lib\\site-packages\\sklearn\\base.py:450: UserWarning: X does not have valid feature names, but RandomForestClassifier was fitted with feature names\n",
      "  warnings.warn(\n"
     ]
    }
   ],
   "source": [
    "Prediction=FinalModel.predict([[userID,Age,Estimated_Salary,Gender]])"
   ]
  },
  {
   "cell_type": "code",
   "execution_count": 6,
   "id": "110f7ea0",
   "metadata": {},
   "outputs": [
    {
     "name": "stdout",
     "output_type": "stream",
     "text": [
      "The Prediction is [1]: \n"
     ]
    }
   ],
   "source": [
    "print(\"The Prediction is {}: \".format(Prediction))"
   ]
  },
  {
   "cell_type": "code",
   "execution_count": null,
   "id": "f5a1d2b3",
   "metadata": {},
   "outputs": [],
   "source": []
  }
 ],
 "metadata": {
  "kernelspec": {
   "display_name": "Python 3 (ipykernel)",
   "language": "python",
   "name": "python3"
  },
  "language_info": {
   "codemirror_mode": {
    "name": "ipython",
    "version": 3
   },
   "file_extension": ".py",
   "mimetype": "text/x-python",
   "name": "python",
   "nbconvert_exporter": "python",
   "pygments_lexer": "ipython3",
   "version": "3.9.13"
  }
 },
 "nbformat": 4,
 "nbformat_minor": 5
}
